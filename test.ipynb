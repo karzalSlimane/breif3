{
 "cells": [
  {
   "cell_type": "code",
   "id": "initial_id",
   "metadata": {
    "collapsed": true,
    "ExecuteTime": {
     "end_time": "2024-11-14T16:46:58.583911Z",
     "start_time": "2024-11-14T16:46:58.231204Z"
    }
   },
   "source": "import  pandas as pd",
   "outputs": [],
   "execution_count": 1
  },
  {
   "metadata": {
    "ExecuteTime": {
     "end_time": "2024-11-14T16:47:20.568295Z",
     "start_time": "2024-11-14T16:47:20.556194Z"
    }
   },
   "cell_type": "code",
   "source": [
    "df = pd.read_csv('appartemetn.csv')\n",
    "df.info()"
   ],
   "id": "938d827d1590545e",
   "outputs": [
    {
     "name": "stdout",
     "output_type": "stream",
     "text": [
      "<class 'pandas.core.frame.DataFrame'>\n",
      "RangeIndex: 12 entries, 0 to 11\n",
      "Data columns (total 9 columns):\n",
      " #   Column        Non-Null Count  Dtype \n",
      "---  ------        --------------  ----- \n",
      " 0   title         12 non-null     object\n",
      " 1   price         12 non-null     int64 \n",
      " 2   datetime      12 non-null     object\n",
      " 3   nb_rooms      12 non-null     int64 \n",
      " 4   nb_baths      12 non-null     int64 \n",
      " 5   surface_area  12 non-null     int64 \n",
      " 6   link          12 non-null     object\n",
      " 7   city_name     12 non-null     object\n",
      " 8   equipements   12 non-null     object\n",
      "dtypes: int64(4), object(5)\n",
      "memory usage: 996.0+ bytes\n"
     ]
    }
   ],
   "execution_count": 2
  },
  {
   "metadata": {
    "ExecuteTime": {
     "end_time": "2024-11-14T16:47:30.799049Z",
     "start_time": "2024-11-14T16:47:30.792162Z"
    }
   },
   "cell_type": "code",
   "source": "df.dtypes",
   "id": "c70cc2a7ddad934d",
   "outputs": [
    {
     "data": {
      "text/plain": [
       "title           object\n",
       "price            int64\n",
       "datetime        object\n",
       "nb_rooms         int64\n",
       "nb_baths         int64\n",
       "surface_area     int64\n",
       "link            object\n",
       "city_name       object\n",
       "equipements     object\n",
       "dtype: object"
      ]
     },
     "execution_count": 3,
     "metadata": {},
     "output_type": "execute_result"
    }
   ],
   "execution_count": 3
  },
  {
   "metadata": {},
   "cell_type": "code",
   "outputs": [],
   "execution_count": null,
   "source": "",
   "id": "e0eb2cae0e70fba3"
  }
 ],
 "metadata": {
  "kernelspec": {
   "display_name": "Python 3",
   "language": "python",
   "name": "python3"
  },
  "language_info": {
   "codemirror_mode": {
    "name": "ipython",
    "version": 2
   },
   "file_extension": ".py",
   "mimetype": "text/x-python",
   "name": "python",
   "nbconvert_exporter": "python",
   "pygments_lexer": "ipython2",
   "version": "2.7.6"
  }
 },
 "nbformat": 4,
 "nbformat_minor": 5
}
